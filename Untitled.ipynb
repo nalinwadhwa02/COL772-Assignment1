{
 "cells": [
  {
   "cell_type": "code",
   "execution_count": 29,
   "id": "secondary-statement",
   "metadata": {},
   "outputs": [],
   "source": [
    "import json\n",
    "import re"
   ]
  },
  {
   "cell_type": "code",
   "execution_count": 30,
   "id": "sweet-venezuela",
   "metadata": {},
   "outputs": [],
   "source": [
    "with open('assignment_1_data/input.json','r') as input_file:\n",
    "  input_data = json.load(input_file)\n",
    "  input_file.close()"
   ]
  },
  {
   "cell_type": "code",
   "execution_count": 31,
   "id": "worse-population",
   "metadata": {},
   "outputs": [],
   "source": [
    "with open('assignment_1_data/output.json','r') as output_file:\n",
    "  output_data = json.load(output_file)\n",
    "  output_file.close()"
   ]
  },
  {
   "cell_type": "code",
   "execution_count": 32,
   "id": "standard-stake",
   "metadata": {},
   "outputs": [
    {
     "name": "stdout",
     "output_type": "stream",
     "text": [
      "226\n",
      "{'sid': 0, 'input_tokens': ['For', 'every', '100', 'females', 'there', 'were', '90.0', 'males', '.']}\n",
      "{'sid': 0, 'output_tokens': ['<self>', '<self>', 'one hundred', '<self>', '<self>', '<self>', 'ninety point zero', '<self>', 'sil']}\n"
     ]
    }
   ],
   "source": [
    "print(len(input_data))\n",
    "print(input_data[0])\n",
    "print(output_data[0])"
   ]
  },
  {
   "cell_type": "code",
   "execution_count": 33,
   "id": "prostate-hanging",
   "metadata": {},
   "outputs": [],
   "source": [
    "proc_data = []"
   ]
  },
  {
   "cell_type": "code",
   "execution_count": 35,
   "id": "metropolitan-commercial",
   "metadata": {},
   "outputs": [],
   "source": [
    "def token_parser(token):\n",
    "    ans = is_punc(token))\n",
    "    \"\"\"\n",
    "    if(ans == None):\n",
    "        ans = is_abbr(token)\n",
    "    if(ans == None):\n",
    "        ans = is_date(token)\n",
    "    if(ans == None):\n",
    "        ans = is_time(token)\n",
    "    if(is_value(token)):\n",
    "        return get_value(token)\n",
    "    elif(is_num(token)):\n",
    "        return get_num(token)\n",
    "    elif(is_curr(token)):\n",
    "        return get_curr(token)\n",
    "    elif(isWord(token)):\n",
    "        return '<self>'\n",
    "    \"\"\"\n",
    "    if(ans == None):\n",
    "        ans = '<unk>'\n",
    "    return ans"
   ]
  },
  {
   "cell_type": "code",
   "execution_count": 36,
   "id": "hollywood-graphics",
   "metadata": {},
   "outputs": [],
   "source": [
    "def is_punc(token):\n",
    "    match = re.search(\"^\\W+$\",token)\n",
    "    if(match!=None):\n",
    "        return '<sil>'\n",
    "    return None"
   ]
  },
  {
   "cell_type": "code",
   "execution_count": 42,
   "id": "relative-wyoming",
   "metadata": {},
   "outputs": [
    {
     "ename": "IndentationError",
     "evalue": "expected an indented block (<ipython-input-42-d5fd4e1cd11a>, line 13)",
     "output_type": "error",
     "traceback": [
      "\u001b[0;36m  File \u001b[0;32m\"<ipython-input-42-d5fd4e1cd11a>\"\u001b[0;36m, line \u001b[0;32m13\u001b[0m\n\u001b[0;31m    #digit\u001b[0m\n\u001b[0m          ^\u001b[0m\n\u001b[0;31mIndentationError\u001b[0m\u001b[0;31m:\u001b[0m expected an indented block\n"
     ]
    }
   ],
   "source": [
    "def is_abbr(token):\n",
    "    digmatch = re.search(\"\\d\",token)\n",
    "    if(digmatch==None):\n",
    "        #nondigit\n",
    "        if(len(token)>1):\n",
    "            return None\n",
    "        else:\n",
    "            allcaps = re.match(\"^[A-Z]+$\",token)\n",
    "            if(allcaps != None):\n",
    "                allcaps.group\n",
    "            \n",
    "    else:\n",
    "        #digit"
   ]
  },
  {
   "cell_type": "code",
   "execution_count": 41,
   "id": "british-philip",
   "metadata": {},
   "outputs": [
    {
     "name": "stdout",
     "output_type": "stream",
     "text": [
      "['<self>', '<self>', 'one hundred', '<self>', '<self>', '<self>', 'ninety point zero', '<self>', 'sil']\n",
      "<unk>\n",
      "<unk>\n",
      "<unk>\n",
      "<unk>\n",
      "<unk>\n",
      "<unk>\n",
      "<unk>\n",
      "<unk>\n",
      "sil\n",
      "['i s b n', 'one sil eight eight one o eight nine sil nine seven sil five', '<self>', 'sil', '<self>', 'sil', '<self>', 'sil', '<self>', 'sil', 'nineteen eighty one', 'sil', 'sil']\n",
      "<unk>\n",
      "<unk>\n",
      "<unk>\n",
      "sil\n",
      "<unk>\n",
      "sil\n",
      "<unk>\n",
      "sil\n",
      "<unk>\n",
      "sil\n",
      "<unk>\n",
      "sil\n",
      "sil\n",
      "['<self>', 'the fourteenth of june twenty fourteen', '<self>', '<self>', '<self>', '<self>', '<self>', '<self>', 'four million euros', 'sil', '<self>', '<self>', '<self>', '<self>', '<self>', '<self>', 'five point seven million euros', 'sil']\n",
      "<unk>\n",
      "<unk>\n",
      "<unk>\n",
      "<unk>\n",
      "<unk>\n",
      "<unk>\n",
      "<unk>\n",
      "<unk>\n",
      "<unk>\n",
      "sil\n",
      "<unk>\n",
      "<unk>\n",
      "<unk>\n",
      "<unk>\n",
      "<unk>\n",
      "<unk>\n",
      "<unk>\n",
      "sil\n",
      "['<self>', 'the twenty first of may twenty thirteen', '<self>', '<self>', 'seventeen ninety sixths', 'sil', 'the eighth of march nineteen ninety six', 'sil', '<self>', '<self>', 'sil', 'sil']\n",
      "<unk>\n",
      "<unk>\n",
      "<unk>\n",
      "<unk>\n",
      "<unk>\n",
      "sil\n",
      "<unk>\n",
      "sil\n",
      "<unk>\n",
      "<unk>\n",
      "sil\n",
      "sil\n",
      "['<self>', '<self>', '<self>', 'sil']\n",
      "<unk>\n",
      "<unk>\n",
      "<unk>\n",
      "sil\n"
     ]
    }
   ],
   "source": [
    "for i in range(0,5):\n",
    "    print(output_data[i]['output_tokens'])\n",
    "    for j in input_data[i]['input_tokens']:\n",
    "        print(token_parser(j))"
   ]
  },
  {
   "cell_type": "code",
   "execution_count": null,
   "id": "foster-discussion",
   "metadata": {},
   "outputs": [],
   "source": []
  }
 ],
 "metadata": {
  "kernelspec": {
   "display_name": "Python 3",
   "language": "python",
   "name": "python3"
  },
  "language_info": {
   "codemirror_mode": {
    "name": "ipython",
    "version": 3
   },
   "file_extension": ".py",
   "mimetype": "text/x-python",
   "name": "python",
   "nbconvert_exporter": "python",
   "pygments_lexer": "ipython3",
   "version": "3.9.2"
  }
 },
 "nbformat": 4,
 "nbformat_minor": 5
}
