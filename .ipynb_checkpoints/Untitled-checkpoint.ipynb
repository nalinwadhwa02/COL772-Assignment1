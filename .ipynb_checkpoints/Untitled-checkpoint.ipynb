{
 "cells": [
  {
   "cell_type": "code",
   "execution_count": 3,
   "id": "secondary-statement",
   "metadata": {},
   "outputs": [],
   "source": [
    "import json\n",
    "import re"
   ]
  },
  {
   "cell_type": "code",
   "execution_count": 4,
   "id": "sweet-venezuela",
   "metadata": {},
   "outputs": [],
   "source": [
    "with open('assignment_1_data/input.json','r') as input_file:\n",
    "  input_data = json.load(input_file)\n",
    "  input_file.close()"
   ]
  },
  {
   "cell_type": "code",
   "execution_count": 5,
   "id": "worse-population",
   "metadata": {},
   "outputs": [],
   "source": [
    "with open('assignment_1_data/output.json','r') as output_file:\n",
    "  output_data = json.load(output_file)\n",
    "  output_file.close()"
   ]
  },
  {
   "cell_type": "code",
   "execution_count": 6,
   "id": "standard-stake",
   "metadata": {},
   "outputs": [
    {
     "name": "stdout",
     "output_type": "stream",
     "text": [
      "226\n",
      "{'sid': 0, 'input_tokens': ['For', 'every', '100', 'females', 'there', 'were', '90.0', 'males', '.']}\n",
      "{'sid': 0, 'output_tokens': ['<self>', '<self>', 'one hundred', '<self>', '<self>', '<self>', 'ninety point zero', '<self>', 'sil']}\n"
     ]
    }
   ],
   "source": [
    "print(len(input_data))\n",
    "print(input_data[0])\n",
    "print(output_data[0])"
   ]
  },
  {
   "cell_type": "code",
   "execution_count": 7,
   "id": "prostate-hanging",
   "metadata": {},
   "outputs": [],
   "source": [
    "proc_data = []"
   ]
  },
  {
   "cell_type": "code",
   "execution_count": 13,
   "id": "metropolitan-commercial",
   "metadata": {},
   "outputs": [],
   "source": [
    "def token_parser(token):\n",
    "    has_dig = re.search(\"\\d\",token)\n",
    "    has_sma = re.search(\"[a-z]\",token)\n",
    "    has_cap = re.search(\"[A-Z]\",token)\n",
    "    has_pun = re.search(\"\\W\",token)\n",
    "    if(has_pun and not (has_dig or has_sma or has_cap)):\n",
    "        return '<sil>'\n",
    "    if(has_dig and not (has_cap or has_pun or has_sma)):\n",
    "        #number\n",
    "        #year\n",
    "        pass\n",
    "    if(has_dig and has_pun and not(has_sma or has_cap)):\n",
    "        has_dot = re.findall(\"\\.\",token)\n",
    "        has_dash = re.findall(\"-\",token)\n",
    "        if(len(has_dot)>0 and len(has_dash)>0):\n",
    "            #negative decimal number\n",
    "            pass\n",
    "        if(len(has_dot)>1):\n",
    "            #IP\n",
    "            pass\n",
    "        if(len(has_dash)>1):\n",
    "            #number dash number\n",
    "            #date\n",
    "            pass\n",
    "        if(len(has_dash)==1):\n",
    "            #negative number\n",
    "            #number dash number\n",
    "            pass\n",
    "        if(len(has_dot)==1):\n",
    "            #positive decimal number\n",
    "            #decimal percent\n",
    "            pass\n",
    "        if(len(has_dot)==0 and len(has_dash)==0):\n",
    "            #others\n",
    "            pass\n",
    "    if(has_dig and has_sma):\n",
    "        #date\n",
    "        #currency\n",
    "        #address\n",
    "        pass\n",
    "    if(not has_dig and not has_pun and not has_sma and has_cap):\n",
    "        #Abbrv\n",
    "        pass\n",
    "    if(not has_dig and not has_pun and has_sma):\n",
    "        return \"<self>\"\n",
    "    return \"<unk>\""
   ]
  },
  {
   "cell_type": "code",
   "execution_count": 14,
   "id": "hollywood-graphics",
   "metadata": {},
   "outputs": [],
   "source": [
    "def is_punc(token):\n",
    "    match = re.search(\"^\\W+$\",token)\n",
    "    if(match!=None):\n",
    "        return '<sil>'\n",
    "    return None"
   ]
  },
  {
   "cell_type": "code",
   "execution_count": 15,
   "id": "relative-wyoming",
   "metadata": {},
   "outputs": [],
   "source": [
    "def is_abbr(token):\n",
    "    digmatch = re.search(\"\\d\",token)\n",
    "    if(digmatch==None):\n",
    "        #nondigit\n",
    "        if(len(token)==1):\n",
    "            return token.lower()\n",
    "        else:\n",
    "            allcaps = re.match(\"^[A-Z.-]+$\",token)\n",
    "            if(allcaps != None):\n",
    "                plr = allcaps.group().lower()\n",
    "                rettoken = \"\"\n",
    "                for p in plr:\n",
    "                    if re.match(\"[a-z]\",p) != None:\n",
    "                        rettoken = rettoken + \" \" +p\n",
    "                return rettoken\n",
    "            else:\n",
    "                return None\n",
    "                \n",
    "            \n",
    "    else:\n",
    "        yearmtch = re.search(\"^[0-9]{4}$\", token)\n",
    "        if(yearmtch != None and yearmtch.group()[0] != 0):\n",
    "            part1 = \"\"\n",
    "            if (yearmtch[0] == '1'):\n",
    "                if(yearmtch[1] == '3'):\n",
    "                    part1 = 'thirteen'\n",
    "                if(yearmtch[1] == '4'):\n",
    "                    part1 = 'fourteen'\n",
    "                if(yearmtch[1] == '5'):\n",
    "                    part1 = 'fifteen'\n",
    "                if(yearmtch[1] == '6'):\n",
    "                    part1 = 'sixteen'\n",
    "                if(yearmtch[1] == '7'):\n",
    "                    part1 = 'seventeen'\n",
    "                if(yearmtch[1] == '8'):\n",
    "                    part1 = 'eightteen'\n",
    "                if(yearmtch[1] == '9'):\n",
    "                    part1 = 'nineteen'\n",
    "            if(yearmtch[0] == '2'):\n",
    "                part1 = 'twenty'\n",
    "            part2 = \"\"\n",
    "            return part1+part2\n",
    "        #digit"
   ]
  },
  {
   "cell_type": "code",
   "execution_count": 21,
   "id": "british-philip",
   "metadata": {},
   "outputs": [
    {
     "name": "stdout",
     "output_type": "stream",
     "text": [
      "['For', 'every', '100', 'females', 'there', 'were', '90.0', 'males', '.']\n",
      "['<self>', '<self>', 'one hundred', '<self>', '<self>', '<self>', 'ninety point zero', '<self>', 'sil']\n",
      "['ISBN', '1-881089-97-5', 'Scharnhorst', ',', 'Gary', ';', 'Bales', ',', 'Jack', '(', '1981', ')', '.']\n",
      "['i s b n', 'one sil eight eight one o eight nine sil nine seven sil five', '<self>', 'sil', '<self>', 'sil', '<self>', 'sil', '<self>', 'sil', 'nineteen eighty one', 'sil', 'sil']\n",
      "['On', '14 June 2014', 'Lazio', 'bought', 'Candreva', 'outright', 'for', 'another', '€4 million', ',', 'so', 'in', 'total', 'Lazio', 'paid', 'Udinese', '€5.7 million', '.']\n",
      "['<self>', 'the fourteenth of june twenty fourteen', '<self>', '<self>', '<self>', '<self>', '<self>', '<self>', 'four million euros', 'sil', '<self>', '<self>', '<self>', '<self>', '<self>', '<self>', 'five point seven million euros', 'sil']\n",
      "['Retrieved', '21 May 2013', 'Decree', 'Law', '17/96', ',', '8 March 1996', '(', 'in', 'Portuguese', ')', '.']\n",
      "['<self>', 'the twenty first of may twenty thirteen', '<self>', '<self>', 'seventeen ninety sixths', 'sil', 'the eighth of march nineteen ninety six', 'sil', '<self>', '<self>', 'sil', 'sil']\n",
      "['Israeli', 'Airplay', 'Chart', '.']\n",
      "['<self>', '<self>', '<self>', 'sil']\n",
      "['Her', 'dad', 'tells', 'her', 'that', 'if', 'Shyam', 'admits', 'his', 'love', 'to', 'her', 'first', ',', 'then', \"he'll\", 'accept', 'them', '.']\n",
      "['<self>', '<self>', '<self>', '<self>', '<self>', '<self>', '<self>', '<self>', '<self>', '<self>', '<self>', '<self>', '<self>', 'sil', '<self>', '<self>', '<self>', '<self>', 'sil']\n",
      "['Retrieved', '20 January 2010', '.']\n",
      "['<self>', 'the twentieth of january twenty ten', 'sil']\n",
      "['The', 'population', 'density', 'was', '18', 'people', 'per', 'square', 'mile', '(', '7/km²', ')', '.']\n",
      "['<self>', '<self>', '<self>', '<self>', 'eighteen', '<self>', '<self>', '<self>', '<self>', 'sil', 'seven per square kilometers', 'sil', 'sil']\n",
      "['For', 'the', '2006', '-', '07', 'state', 'education', 'budget', ',', '$10 million', 'was', 'allocated', '.']\n",
      "['<self>', '<self>', 'two thousand six', 'sil', 'seven', '<self>', '<self>', '<self>', 'sil', 'ten million dollars', '<self>', '<self>', 'sil']\n",
      "['The', 'racial', 'makeup', 'of', 'the', 'village', 'was', '99.05%', 'White', ',', '0.32%', 'from', 'other', 'races', ',', 'and', '0.63%', 'from', 'two', 'or', 'more', 'races', '.']\n",
      "['<self>', '<self>', '<self>', '<self>', '<self>', '<self>', '<self>', 'ninety nine point o five percent', '<self>', 'sil', 'zero point three two percent', '<self>', '<self>', '<self>', 'sil', '<self>', 'zero point six three percent', '<self>', '<self>', '<self>', '<self>', '<self>', 'sil']\n",
      "['Australia', 'finished', 'on', '7/283', ',', 'consequently', 'needing', 'to', 'restrict', 'South', 'Africa', 'to', 'less', 'than', '227', 'to', 'gain', 'the', 'bonus', 'point', '.']\n",
      "['<self>', '<self>', '<self>', 'seven two hundred eighty thirds', 'sil', '<self>', '<self>', '<self>', '<self>', '<self>', '<self>', '<self>', '<self>', '<self>', 'two hundred twenty seven', '<self>', '<self>', '<self>', '<self>', '<self>', 'sil']\n",
      "['\"', 'United', 'Nations', 'Treaty', 'Collection', ':', 'Chapter', 'IV', ':', 'Human', 'Rights', ':', '11', '.']\n",
      "['sil', '<self>', '<self>', '<self>', '<self>', 'sil', '<self>', 'four', 'sil', '<self>', '<self>', 'sil', 'eleven', 'sil']\n",
      "['The', 'Thanetian', 'was', 'established', 'by', 'Swiss', 'geologist', 'Eugene', 'Renevier', 'in', '1873', '.']\n",
      "['<self>', '<self>', '<self>', '<self>', '<self>', '<self>', '<self>', '<self>', '<self>', '<self>', 'eighteen seventy three', 'sil']\n",
      "['ISBN', '978-0-304-35252-4', 'Cox', ',', 'Robert', 'Jon', '(', '2010', ')', '.']\n",
      "['i s b n', 'nine seven eight sil o sil three o four sil three five two five two sil four', '<self>', 'sil', '<self>', '<self>', 'sil', 'twenty ten', 'sil', 'sil']\n",
      "['\"', 'Review', ':', 'Vennela', '1 1/2', '(', 'Telugu', ')', 'is', 'loathsome', '\"', '.']\n",
      "['sil', '<self>', 'sil', '<self>', 'one and a half', 'sil', '<self>', 'sil', '<self>', '<self>', 'sil', 'sil']\n",
      "['The', 'overflight', 'of', 'the', 'Atlantic', '—', 'from', 'Natal', 'to', 'Dakar', '—', 'lasted', '11', 'hours', 'and', '10', 'minutes', '(', '1,908 mi', '/', '3,070 km', ')', '.']\n",
      "['<self>', '<self>', '<self>', '<self>', '<self>', 'sil', '<self>', '<self>', '<self>', '<self>', 'sil', '<self>', 'eleven', '<self>', '<self>', 'ten', '<self>', 'sil', 'one thousand nine hundred eight miles', 'sil', 'three thousand seventy kilometers', 'sil', 'sil']\n",
      "['He', 'came', 'to', 'the', 'crease', 'at', '4/38', 'and', 'scored', '34', 'of', 'the', 'next', '48', 'runs', 'added', ',', 'before', 'falling', 'at', '7/86', '.']\n",
      "['<self>', '<self>', '<self>', '<self>', '<self>', '<self>', 'four thirty eighths', '<self>', '<self>', 'thirty four', '<self>', '<self>', '<self>', 'forty eight', '<self>', '<self>', 'sil', '<self>', '<self>', '<self>', 'seven eighty sixths', 'sil']\n",
      "['Cameron', 'Dollar', 'defeated', 'Martin', 'Stapleton', 'via', 'submission', '(', 'rear', 'naked', 'choke', ')', 'at', '1:34', 'of', 'round', '1', '.']\n",
      "['<self>', '<self>', '<self>', '<self>', '<self>', '<self>', '<self>', 'sil', '<self>', '<self>', '<self>', 'sil', '<self>', 'one thirty four', '<self>', '<self>', 'one', 'sil']\n",
      "['Males', 'had', 'a', 'median', 'income', 'of', '$39,844', 'versus', '$21,761', 'for', 'females', '.']\n",
      "['<self>', '<self>', '<self>', '<self>', '<self>', '<self>', 'thirty nine thousand eight hundred forty four dollars', '<self>', 'twenty one thousand seven hundred sixty one dollars', '<self>', '<self>', 'sil']\n",
      "['Loeffler', 'polled', '57 percent', 'of', 'the', 'ballots', 'cast', 'in', 'the', 'campaign', 'against', 'Wolff', '.']\n",
      "['<self>', '<self>', 'fifty seven percent', '<self>', '<self>', '<self>', '<self>', '<self>', '<self>', '<self>', '<self>', '<self>', 'sil']\n",
      "['They', 'placed', '4th', 'at', '2007', 'Europeans', 'and', '8th', 'at', 'Worlds', '.']\n",
      "['<self>', '<self>', 'fourth', '<self>', 'two thousand seven', '<self>', '<self>', 'eighth', '<self>', '<self>', 'sil']\n",
      "['However', 'Tannet', 'died', 'in', 'the', 'early', '10th', 'century', '.']\n",
      "['<self>', '<self>', '<self>', '<self>', '<self>', '<self>', 'tenth', '<self>', 'sil']\n",
      "['Loving', 'Healing', 'Press', '(', '2011', ')', '.']\n",
      "['<self>', '<self>', '<self>', 'sil', 'twenty eleven', 'sil', 'sil']\n",
      "['At', '2:50 p.m.', 'local', 'time', ',', 'a', 'tornado', 'warning', 'was', 'issued', 'for', 'the', 'speedway', 'area', 'and', 'the', 'grandstands', 'were', 'evacuated', '.']\n",
      "['<self>', 'two fifty p m', '<self>', '<self>', 'sil', '<self>', '<self>', '<self>', '<self>', '<self>', '<self>', '<self>', '<self>', '<self>', '<self>', '<self>', '<self>', '<self>', '<self>', 'sil']\n",
      "['Record', 'transfer', 'fee', 'received', ':', '£50,000', '(', 'including', 'add', 'ons', ')', 'from', 'NAC', 'Breda', 'for', 'Peter', 'Thomson', ',', '1999', '.']\n",
      "['<self>', '<self>', '<self>', '<self>', 'sil', 'fifty thousand pounds', 'sil', '<self>', '<self>', '<self>', 'sil', '<self>', 'n a c', '<self>', '<self>', '<self>', '<self>', 'sil', 'nineteen ninety nine', 'sil']\n",
      "['She', 'only', 'reached', 'the', 'quarterfinals', 'at', 'one', 'other', 'tournament', ',', 'Oklahoma', 'City', ',', 'where', 'she', 'lost', 'to', 'Davenport', '.']\n",
      "['<self>', '<self>', '<self>', '<self>', '<self>', '<self>', '<self>', '<self>', '<self>', 'sil', '<self>', '<self>', 'sil', '<self>', '<self>', '<self>', '<self>', '<self>', 'sil']\n",
      "['Dreilinger', ',', 'Danielle', '(', 'October 21, 2015', ')', '.']\n",
      "['<self>', 'sil', '<self>', 'sil', 'october twenty first twenty fifteen', 'sil', 'sil']\n",
      "['The', '34th', 'Tank', 'Division', 'itself', 'comprised', 'the', '67th', 'and', '68th', 'Tank', 'Regiments', 'and', 'the', '34th', 'Motor', 'Rifle', 'Regiment', '.']\n",
      "['<self>', 'thirty fourth', '<self>', '<self>', '<self>', '<self>', '<self>', 'sixty seventh', '<self>', 'sixty eighth', '<self>', '<self>', '<self>', '<self>', 'thirty fourth', '<self>', '<self>', '<self>', 'sil']\n",
      "['An', 'entirely', 'new', 'car', ',', 'the', '917/20', 'was', 'built', 'as', 'test', 'bed', 'for', 'future', 'CanAm', 'parts', 'and', 'aerodynamic', '\"', 'low', 'drag', '\"', 'concepts', '.']\n",
      "['<self>', '<self>', '<self>', '<self>', 'sil', '<self>', 'nine hundred seventeen twentieths', '<self>', '<self>', '<self>', '<self>', '<self>', '<self>', '<self>', '<self>', '<self>', '<self>', '<self>', 'sil', '<self>', '<self>', 'sil', '<self>', 'sil']\n",
      "['Cranbury', ',', 'New', 'Jersey', ':', 'Associated', 'University', 'Presses', ',', 'inc', '1977', 'ISBN', '0-8387-1972-4', 'John', 'Reid', '(', '2005', ')', '.']\n",
      "['<self>', 'sil', '<self>', '<self>', 'sil', '<self>', '<self>', '<self>', 'sil', '<self>', 'nineteen seventy seven', 'i s b n', 'o sil eight three eight seven sil one nine seven two sil four', '<self>', '<self>', 'sil', 'two thousand five', 'sil', 'sil']\n"
     ]
    }
   ],
   "source": [
    "for i in range(0,30):\n",
    "    print(input_data[i]['input_tokens'])\n",
    "    print(output_data[i]['output_tokens'])"
   ]
  },
  {
   "cell_type": "code",
   "execution_count": null,
   "id": "eb2373d4",
   "metadata": {},
   "outputs": [],
   "source": []
  }
 ],
 "metadata": {
  "kernelspec": {
   "display_name": "Python 3 (ipykernel)",
   "language": "python",
   "name": "python3"
  },
  "language_info": {
   "codemirror_mode": {
    "name": "ipython",
    "version": 3
   },
   "file_extension": ".py",
   "mimetype": "text/x-python",
   "name": "python",
   "nbconvert_exporter": "python",
   "pygments_lexer": "ipython3",
   "version": "3.9.6"
  }
 },
 "nbformat": 4,
 "nbformat_minor": 5
}
